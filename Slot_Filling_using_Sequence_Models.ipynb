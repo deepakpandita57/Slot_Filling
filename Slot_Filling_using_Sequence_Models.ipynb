{
 "cells": [
  {
   "cell_type": "markdown",
   "metadata": {},
   "source": [
    "# Read data"
   ]
  },
  {
   "cell_type": "code",
   "execution_count": 1,
   "metadata": {},
   "outputs": [
    {
     "data": {
      "text/html": [
       "<div>\n",
       "<style scoped>\n",
       "    .dataframe tbody tr th:only-of-type {\n",
       "        vertical-align: middle;\n",
       "    }\n",
       "\n",
       "    .dataframe tbody tr th {\n",
       "        vertical-align: top;\n",
       "    }\n",
       "\n",
       "    .dataframe thead th {\n",
       "        text-align: right;\n",
       "    }\n",
       "</style>\n",
       "<table border=\"1\" class=\"dataframe\">\n",
       "  <thead>\n",
       "    <tr style=\"text-align: right;\">\n",
       "      <th></th>\n",
       "      <th>sentences</th>\n",
       "      <th>slot_labels</th>\n",
       "    </tr>\n",
       "  </thead>\n",
       "  <tbody>\n",
       "    <tr>\n",
       "      <th>0</th>\n",
       "      <td>Add another song to the Cita RomÃ¡ntica playlist</td>\n",
       "      <td>O O B-music_item O O B-playlist I-playlist O</td>\n",
       "    </tr>\n",
       "    <tr>\n",
       "      <th>1</th>\n",
       "      <td>add clem burke in my playlist Pre-Party R&amp;B Jams</td>\n",
       "      <td>O B-artist I-artist O B-playlist_owner O B-pla...</td>\n",
       "    </tr>\n",
       "    <tr>\n",
       "      <th>2</th>\n",
       "      <td>Add Live from Aragon Ballroom to Trapeo</td>\n",
       "      <td>O B-entity_name I-entity_name I-entity_name I-...</td>\n",
       "    </tr>\n",
       "    <tr>\n",
       "      <th>3</th>\n",
       "      <td>add Unite and Win to my night out</td>\n",
       "      <td>O B-entity_name I-entity_name I-entity_name O ...</td>\n",
       "    </tr>\n",
       "    <tr>\n",
       "      <th>4</th>\n",
       "      <td>Add track to my Digster Future Hits</td>\n",
       "      <td>O B-music_item O B-playlist_owner B-playlist I...</td>\n",
       "    </tr>\n",
       "  </tbody>\n",
       "</table>\n",
       "</div>"
      ],
      "text/plain": [
       "                                          sentences  \\\n",
       "0  Add another song to the Cita RomÃ¡ntica playlist   \n",
       "1  add clem burke in my playlist Pre-Party R&B Jams   \n",
       "2           Add Live from Aragon Ballroom to Trapeo   \n",
       "3                 add Unite and Win to my night out   \n",
       "4               Add track to my Digster Future Hits   \n",
       "\n",
       "                                         slot_labels  \n",
       "0       O O B-music_item O O B-playlist I-playlist O  \n",
       "1  O B-artist I-artist O B-playlist_owner O B-pla...  \n",
       "2  O B-entity_name I-entity_name I-entity_name I-...  \n",
       "3  O B-entity_name I-entity_name I-entity_name O ...  \n",
       "4  O B-music_item O B-playlist_owner B-playlist I...  "
      ]
     },
     "execution_count": 1,
     "metadata": {},
     "output_type": "execute_result"
    }
   ],
   "source": [
    "import pandas as pd\n",
    "\n",
    "#Read sentences from a text file\n",
    "def read_file(filename):\n",
    "    with open(filename, 'r') as f:\n",
    "        lines = [x.strip() for x in f.readlines()]\n",
    "        return lines\n",
    "\n",
    "sentences = read_file(\"data/snips_sentences_subset.txt\")\n",
    "slot_labels = read_file(\"data/snips_slot_labels_subset.txt\")\n",
    "\n",
    "df = pd.DataFrame(list(zip(sentences, slot_labels)), columns =['sentences', 'slot_labels']) \n",
    "df.head()"
   ]
  },
  {
   "cell_type": "markdown",
   "metadata": {},
   "source": [
    "# Data Preparation"
   ]
  },
  {
   "cell_type": "code",
   "execution_count": 2,
   "metadata": {},
   "outputs": [
    {
     "name": "stdout",
     "output_type": "stream",
     "text": [
      "(6299,) (1575,) (6299,) (1575,)\n"
     ]
    }
   ],
   "source": [
    "import numpy as np\n",
    "import tensorflow as tf\n",
    "from sklearn.model_selection import train_test_split\n",
    "\n",
    "TEST_SPLIT = 0.2\n",
    "RANDOM_STATE = 1\n",
    "np.random.seed(RANDOM_STATE)\n",
    "tf.random.set_seed(RANDOM_STATE)\n",
    "\n",
    "#Split the dataset into train and test\n",
    "X_train, X_test, y_train, y_test = train_test_split(df['sentences'], df['slot_labels'], \n",
    "                                                    test_size = TEST_SPLIT, random_state = RANDOM_STATE)\n",
    "\n",
    "print(X_train.shape, X_test.shape, y_train.shape, y_test.shape)"
   ]
  },
  {
   "cell_type": "code",
   "execution_count": 3,
   "metadata": {},
   "outputs": [
    {
     "name": "stdout",
     "output_type": "stream",
     "text": [
      "(6299, 35, 58) (1575, 35, 58)\n",
      "(1575, 35, 1) (1575, 35, 1)\n"
     ]
    }
   ],
   "source": [
    "from tensorflow.keras.preprocessing.text import Tokenizer\n",
    "from tensorflow.keras.preprocessing.sequence import pad_sequences\n",
    "from tensorflow.keras import utils\n",
    "\n",
    "NUM_WORDS = 7501\n",
    "OOV_TOKEN = \"<UNK>\"\n",
    "\n",
    "#Initialize Tokenizers\n",
    "tokenizer = Tokenizer(num_words = NUM_WORDS, filters = '', lower = False, split = ' ', oov_token = OOV_TOKEN)\n",
    "tokenizer.fit_on_texts(list(X_train))\n",
    "\n",
    "y_tokenizer = Tokenizer(filters = '', lower = False, split = ' ')\n",
    "y_tokenizer.fit_on_texts(list(y_train))\n",
    "\n",
    "#Convert text to sequences\n",
    "X_seq = tokenizer.texts_to_sequences(list(X_train))\n",
    "X_test_seq = tokenizer.texts_to_sequences(list(X_test))\n",
    "\n",
    "y_seq = y_tokenizer.texts_to_sequences(list(y_train))\n",
    "y_test_seq = y_tokenizer.texts_to_sequences(list(y_test))\n",
    "\n",
    "MAX_SEQ_LEN = 35\n",
    "\n",
    "#Pad the sequences\n",
    "X_train_padded = pad_sequences(X_seq, maxlen = MAX_SEQ_LEN, padding = 'post')\n",
    "X_test_padded = pad_sequences(X_test_seq, maxlen = MAX_SEQ_LEN, padding = 'post')\n",
    "\n",
    "y_train_padded = pad_sequences(y_seq, maxlen = MAX_SEQ_LEN, padding = 'post')\n",
    "y_test_padded = pad_sequences(y_test_seq, maxlen = MAX_SEQ_LEN, padding = 'post')\n",
    "\n",
    "#Convert labels to one-hot vectors\n",
    "y_train_encoded = utils.to_categorical(y_train_padded)\n",
    "y_test_encoded = utils.to_categorical(y_test_padded)\n",
    "print(y_train_encoded.shape, y_test_encoded.shape)\n",
    "\n",
    "#Reshape the input for Bi-LSTM\n",
    "X_train_padded = np.reshape(X_train_padded, (X_train_padded.shape[0], X_train_padded.shape[1], 1))\n",
    "X_test_padded = np.reshape(X_test_padded, (X_test_padded.shape[0], X_test_padded.shape[1], 1))\n",
    "print(X_test_padded.shape, X_test_padded.shape)"
   ]
  },
  {
   "cell_type": "markdown",
   "metadata": {},
   "source": [
    "# Model Training"
   ]
  },
  {
   "cell_type": "code",
   "execution_count": 4,
   "metadata": {},
   "outputs": [
    {
     "name": "stderr",
     "output_type": "stream",
     "text": [
      "2022-01-14 13:58:53.155569: I tensorflow/core/platform/cpu_feature_guard.cc:151] This TensorFlow binary is optimized with oneAPI Deep Neural Network Library (oneDNN) to use the following CPU instructions in performance-critical operations:  AVX2 FMA\n",
      "To enable them in other operations, rebuild TensorFlow with the appropriate compiler flags.\n"
     ]
    },
    {
     "name": "stdout",
     "output_type": "stream",
     "text": [
      "Model: \"sequential\"\n",
      "_________________________________________________________________\n",
      " Layer (type)                Output Shape              Param #   \n",
      "=================================================================\n",
      " embedding (Embedding)       (None, 35, 64)            480064    \n",
      "                                                                 \n",
      " bidirectional (Bidirectiona  (None, 35, 64)           24832     \n",
      " l)                                                              \n",
      "                                                                 \n",
      " time_distributed (TimeDistr  (None, 35, 58)           3770      \n",
      " ibuted)                                                         \n",
      "                                                                 \n",
      "=================================================================\n",
      "Total params: 508,666\n",
      "Trainable params: 508,666\n",
      "Non-trainable params: 0\n",
      "_________________________________________________________________\n",
      "Epoch 1/7\n",
      "178/178 [==============================] - 6s 23ms/step - loss: 1.3057 - precision: 0.9592 - recall: 0.6252 - accuracy: 0.8311 - val_loss: 0.6387 - val_precision: 0.9678 - val_recall: 0.8109 - val_accuracy: 0.8606\n",
      "Epoch 2/7\n",
      "178/178 [==============================] - 4s 20ms/step - loss: 0.5646 - precision: 0.9780 - recall: 0.8414 - accuracy: 0.8692 - val_loss: 0.4360 - val_precision: 0.9874 - val_recall: 0.8669 - val_accuracy: 0.8916\n",
      "Epoch 3/7\n",
      "178/178 [==============================] - 4s 20ms/step - loss: 0.3649 - precision: 0.9886 - recall: 0.8737 - accuracy: 0.9081 - val_loss: 0.2821 - val_precision: 0.9862 - val_recall: 0.8966 - val_accuracy: 0.9290\n",
      "Epoch 4/7\n",
      "178/178 [==============================] - 4s 21ms/step - loss: 0.2303 - precision: 0.9875 - recall: 0.9086 - accuracy: 0.9407 - val_loss: 0.2055 - val_precision: 0.9856 - val_recall: 0.9229 - val_accuracy: 0.9467\n",
      "Epoch 5/7\n",
      "178/178 [==============================] - 4s 25ms/step - loss: 0.1447 - precision: 0.9880 - recall: 0.9408 - accuracy: 0.9619 - val_loss: 0.1710 - val_precision: 0.9806 - val_recall: 0.9399 - val_accuracy: 0.9548\n",
      "Epoch 6/7\n",
      "178/178 [==============================] - 4s 21ms/step - loss: 0.0981 - precision: 0.9904 - recall: 0.9602 - accuracy: 0.9753 - val_loss: 0.1562 - val_precision: 0.9773 - val_recall: 0.9511 - val_accuracy: 0.9603\n",
      "Epoch 7/7\n",
      "178/178 [==============================] - 4s 20ms/step - loss: 0.0671 - precision: 0.9915 - recall: 0.9743 - accuracy: 0.9832 - val_loss: 0.1488 - val_precision: 0.9781 - val_recall: 0.9558 - val_accuracy: 0.9637\n"
     ]
    }
   ],
   "source": [
    "from tensorflow.keras.models import Sequential\n",
    "from tensorflow.keras.layers import Embedding, LSTM, Dense, Bidirectional, TimeDistributed\n",
    "from tensorflow.keras.metrics import Precision, Recall\n",
    "\n",
    "VAL_SPLIT = 0.1\n",
    "BATCH_SIZE = 32\n",
    "EPOCHS = 7\n",
    "EMBEDDING_DIM = 64\n",
    "NUM_UNITS = 32\n",
    "VOCAB_SIZE = NUM_WORDS\n",
    "Y_VOCAB_SIZE = len(y_tokenizer.word_index) + 1\n",
    "\n",
    "\n",
    "#Define a Bi-LSTM model\n",
    "bilstm_model = Sequential()\n",
    "bilstm_model.add(Embedding(input_dim = VOCAB_SIZE, output_dim = EMBEDDING_DIM, input_length = MAX_SEQ_LEN))\n",
    "bilstm_model.add(Bidirectional(LSTM(NUM_UNITS, activation='relu', return_sequences=True)))\n",
    "bilstm_model.add(TimeDistributed(Dense(Y_VOCAB_SIZE, activation='softmax')))\n",
    "\n",
    "#Compile the model\n",
    "bilstm_model.compile(optimizer='adam', loss='categorical_crossentropy', metrics=[Precision(), Recall(), 'accuracy'])\n",
    "\n",
    "bilstm_model.summary()\n",
    "\n",
    "#Fit the model on training data\n",
    "bilstm_history = bilstm_model.fit(X_train_padded, y_train_encoded, batch_size = BATCH_SIZE, epochs = EPOCHS, validation_split = VAL_SPLIT)\n"
   ]
  },
  {
   "cell_type": "markdown",
   "metadata": {},
   "source": [
    "## Plot Learning Curves"
   ]
  },
  {
   "cell_type": "code",
   "execution_count": 5,
   "metadata": {},
   "outputs": [
    {
     "data": {
      "image/png": "[encoded data removed]",
      "text/plain": [
       "<Figure size 432x288 with 1 Axes>"
      ]
     },
     "metadata": {
      "needs_background": "light"
     },
     "output_type": "display_data"
    }
   ],
   "source": [
    "from matplotlib import pyplot\n",
    "\n",
    "# plot learning curves\n",
    "pyplot.title('Learning Curves')\n",
    "pyplot.xlabel('Epoch')\n",
    "pyplot.ylabel('Cross Entropy')\n",
    "pyplot.plot(bilstm_history.history['loss'], label='train')\n",
    "pyplot.plot(bilstm_history.history['val_loss'], label='val')\n",
    "pyplot.legend()\n",
    "pyplot.savefig(\"learning_curve.jpg\", bbox_inches='tight', dpi = 300)\n",
    "pyplot.show()"
   ]
  },
  {
   "cell_type": "markdown",
   "metadata": {},
   "source": [
    "# Evaluation"
   ]
  },
  {
   "cell_type": "code",
   "execution_count": 6,
   "metadata": {},
   "outputs": [
    {
     "name": "stdout",
     "output_type": "stream",
     "text": [
      "50/50 [==============================] - 0s 6ms/step - loss: 0.1515 - precision: 0.9787 - recall: 0.9531 - accuracy: 0.9624\n"
     ]
    }
   ],
   "source": [
    "#Evaluate the model performance on test data\n",
    "bilstm_score = bilstm_model.evaluate(X_test_padded, y_test_encoded, batch_size = BATCH_SIZE)"
   ]
  },
  {
   "cell_type": "markdown",
   "metadata": {},
   "source": [
    "# Prediction"
   ]
  },
  {
   "cell_type": "code",
   "execution_count": 7,
   "metadata": {},
   "outputs": [
    {
     "name": "stdout",
     "output_type": "stream",
     "text": [
      "I want to watch The Matrix\n",
      "['O', 'O', 'O', 'O', 'B-movie_name', 'I-movie_name']\n"
     ]
    }
   ],
   "source": [
    "label_list = list(y_tokenizer.word_index.keys())\n",
    "index_list = list(y_tokenizer.word_index.values())\n",
    "\n",
    "#Input sentence\n",
    "sentence = \"I want to watch The Matrix\"\n",
    "input_seq = tokenizer.texts_to_sequences([sentence])\n",
    "input_features = pad_sequences(input_seq, maxlen = MAX_SEQ_LEN, padding = 'post')\n",
    "\n",
    "#Predict the slots\n",
    "prediction = bilstm_model.predict(input_features)\n",
    "slots = [label_list[index_list.index(j)] for j in [np.argmax(x) for x in prediction[0][:]] if j in index_list]\n",
    "print(sentence)\n",
    "print(slots)"
   ]
  },
  {
   "cell_type": "code",
   "execution_count": null,
   "metadata": {},
   "outputs": [],
   "source": []
  }
 ],
 "metadata": {
  "kernelspec": {
   "display_name": "Python 3 (ipykernel)",
   "language": "python",
   "name": "python3"
  },
  "language_info": {
   "codemirror_mode": {
    "name": "ipython",
    "version": 3
   },
   "file_extension": ".py",
   "mimetype": "text/x-python",
   "name": "python",
   "nbconvert_exporter": "python",
   "pygments_lexer": "ipython3",
   "version": "3.7.11"
  }
 },
 "nbformat": 4,
 "nbformat_minor": 4
}
